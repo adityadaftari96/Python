{
  "cells": [
    {
      "cell_type": "markdown",
      "metadata": {
        "id": "24ZpiDdLSI2v"
      },
      "source": [
        "# Assignment 3  \n",
        "\\# Aditya Daftari  \n",
        "\\# ad6173"
      ]
    },
    {
      "cell_type": "markdown",
      "metadata": {
        "id": "5ME79KRZSLdL"
      },
      "source": [
        "\n",
        "* The main goal of assignment 3 is to develop a **deep learning classification** model to predict the direction of the S&P500 (daily basis) for the dates **2022-01-01—2022-11-30** (test set). The period of the train dataset is your own choice (normally it should be more than 15 years). You may consider dividing the dataset and shifting the training window after each prediction on a quarterly, monthly or weekly basis, but any type of processing will be accepted as long as it makes sense.\n",
        "* Make sure that you switch your GPU on, you have access to it on Colab. The training stage may take long, you might want to use a smaller amount of data, or fewer epochs at first to speed up your development process.  \n",
        "*   Note that we *won't* be attempting to measure the quality of every feature (i.e., how much it improves the model), so please don't be afraid if your model doesn't output good results.  \n",
        "* **Hand in**: Please submit the .ipynb notebook and name it ‘HWX_FirstName_NetID’. The notebook should include all classes and functions you implemented with proper comments, and explanation of your operations and results. "
      ]
    },
    {
      "cell_type": "code",
      "execution_count": null,
      "metadata": {
        "id": "KK3ah2-KR7Mc"
      },
      "outputs": [],
      "source": [
        "import pandas as pd\n",
        "import numpy as np\n",
        "import matplotlib.pyplot as plt\n",
        "import seaborn as sns\n",
        "import yfinance as yf\n",
        "from sklearn.preprocessing import OneHotEncoder, StandardScaler"
      ]
    },
    {
      "cell_type": "markdown",
      "metadata": {
        "id": "y8DfulTBSAXT"
      },
      "source": [
        "#1. Import the Dataset (2pts) \n",
        "You may use [yfinance](https://pypi.org/project/yfinance/) API to prepare the data. A typical historical dataset contains the date, open price, close price, highest price, lowest price, and volume of the asset for each trading day. Download the historical dataset for S\\&P500 and conduct necessary data pre-processing.\n"
      ]
    },
    {
      "cell_type": "code",
      "execution_count": null,
      "metadata": {
        "id": "F8Rf5rSWR-O4",
        "colab": {
          "base_uri": "https://localhost:8080/",
          "height": 255
        },
        "outputId": "5bbccdd2-2f5b-40d4-a094-b6c3e867da02"
      },
      "outputs": [
        {
          "output_type": "stream",
          "name": "stdout",
          "text": [
            "\r[*********************100%***********************]  1 of 1 completed\n"
          ]
        },
        {
          "output_type": "execute_result",
          "data": {
            "text/plain": [
              "                   Open         High          Low        Close    Adj Close  \\\n",
              "Date                                                                          \n",
              "2004-12-01  1173.780029  1191.369995  1173.780029  1191.369995  1191.369995   \n",
              "2004-12-02  1191.369995  1194.800049  1186.719971  1190.329956  1190.329956   \n",
              "2004-12-03  1190.329956  1197.459961  1187.709961  1191.170044  1191.170044   \n",
              "2004-12-06  1191.170044  1192.410034  1185.180054  1190.250000  1190.250000   \n",
              "2004-12-07  1190.250000  1192.170044  1177.069946  1177.069946  1177.069946   \n",
              "\n",
              "                Volume  \n",
              "Date                    \n",
              "2004-12-01  1772800000  \n",
              "2004-12-02  1774900000  \n",
              "2004-12-03  1566700000  \n",
              "2004-12-06  1354400000  \n",
              "2004-12-07  1533900000  "
            ],
            "text/html": [
              "\n",
              "  <div id=\"df-842b0748-69d9-42eb-bf9b-d0359150e82e\">\n",
              "    <div class=\"colab-df-container\">\n",
              "      <div>\n",
              "<style scoped>\n",
              "    .dataframe tbody tr th:only-of-type {\n",
              "        vertical-align: middle;\n",
              "    }\n",
              "\n",
              "    .dataframe tbody tr th {\n",
              "        vertical-align: top;\n",
              "    }\n",
              "\n",
              "    .dataframe thead th {\n",
              "        text-align: right;\n",
              "    }\n",
              "</style>\n",
              "<table border=\"1\" class=\"dataframe\">\n",
              "  <thead>\n",
              "    <tr style=\"text-align: right;\">\n",
              "      <th></th>\n",
              "      <th>Open</th>\n",
              "      <th>High</th>\n",
              "      <th>Low</th>\n",
              "      <th>Close</th>\n",
              "      <th>Adj Close</th>\n",
              "      <th>Volume</th>\n",
              "    </tr>\n",
              "    <tr>\n",
              "      <th>Date</th>\n",
              "      <th></th>\n",
              "      <th></th>\n",
              "      <th></th>\n",
              "      <th></th>\n",
              "      <th></th>\n",
              "      <th></th>\n",
              "    </tr>\n",
              "  </thead>\n",
              "  <tbody>\n",
              "    <tr>\n",
              "      <th>2004-12-01</th>\n",
              "      <td>1173.780029</td>\n",
              "      <td>1191.369995</td>\n",
              "      <td>1173.780029</td>\n",
              "      <td>1191.369995</td>\n",
              "      <td>1191.369995</td>\n",
              "      <td>1772800000</td>\n",
              "    </tr>\n",
              "    <tr>\n",
              "      <th>2004-12-02</th>\n",
              "      <td>1191.369995</td>\n",
              "      <td>1194.800049</td>\n",
              "      <td>1186.719971</td>\n",
              "      <td>1190.329956</td>\n",
              "      <td>1190.329956</td>\n",
              "      <td>1774900000</td>\n",
              "    </tr>\n",
              "    <tr>\n",
              "      <th>2004-12-03</th>\n",
              "      <td>1190.329956</td>\n",
              "      <td>1197.459961</td>\n",
              "      <td>1187.709961</td>\n",
              "      <td>1191.170044</td>\n",
              "      <td>1191.170044</td>\n",
              "      <td>1566700000</td>\n",
              "    </tr>\n",
              "    <tr>\n",
              "      <th>2004-12-06</th>\n",
              "      <td>1191.170044</td>\n",
              "      <td>1192.410034</td>\n",
              "      <td>1185.180054</td>\n",
              "      <td>1190.250000</td>\n",
              "      <td>1190.250000</td>\n",
              "      <td>1354400000</td>\n",
              "    </tr>\n",
              "    <tr>\n",
              "      <th>2004-12-07</th>\n",
              "      <td>1190.250000</td>\n",
              "      <td>1192.170044</td>\n",
              "      <td>1177.069946</td>\n",
              "      <td>1177.069946</td>\n",
              "      <td>1177.069946</td>\n",
              "      <td>1533900000</td>\n",
              "    </tr>\n",
              "  </tbody>\n",
              "</table>\n",
              "</div>\n",
              "      <button class=\"colab-df-convert\" onclick=\"convertToInteractive('df-842b0748-69d9-42eb-bf9b-d0359150e82e')\"\n",
              "              title=\"Convert this dataframe to an interactive table.\"\n",
              "              style=\"display:none;\">\n",
              "        \n",
              "  <svg xmlns=\"http://www.w3.org/2000/svg\" height=\"24px\"viewBox=\"0 0 24 24\"\n",
              "       width=\"24px\">\n",
              "    <path d=\"M0 0h24v24H0V0z\" fill=\"none\"/>\n",
              "    <path d=\"M18.56 5.44l.94 2.06.94-2.06 2.06-.94-2.06-.94-.94-2.06-.94 2.06-2.06.94zm-11 1L8.5 8.5l.94-2.06 2.06-.94-2.06-.94L8.5 2.5l-.94 2.06-2.06.94zm10 10l.94 2.06.94-2.06 2.06-.94-2.06-.94-.94-2.06-.94 2.06-2.06.94z\"/><path d=\"M17.41 7.96l-1.37-1.37c-.4-.4-.92-.59-1.43-.59-.52 0-1.04.2-1.43.59L10.3 9.45l-7.72 7.72c-.78.78-.78 2.05 0 2.83L4 21.41c.39.39.9.59 1.41.59.51 0 1.02-.2 1.41-.59l7.78-7.78 2.81-2.81c.8-.78.8-2.07 0-2.86zM5.41 20L4 18.59l7.72-7.72 1.47 1.35L5.41 20z\"/>\n",
              "  </svg>\n",
              "      </button>\n",
              "      \n",
              "  <style>\n",
              "    .colab-df-container {\n",
              "      display:flex;\n",
              "      flex-wrap:wrap;\n",
              "      gap: 12px;\n",
              "    }\n",
              "\n",
              "    .colab-df-convert {\n",
              "      background-color: #E8F0FE;\n",
              "      border: none;\n",
              "      border-radius: 50%;\n",
              "      cursor: pointer;\n",
              "      display: none;\n",
              "      fill: #1967D2;\n",
              "      height: 32px;\n",
              "      padding: 0 0 0 0;\n",
              "      width: 32px;\n",
              "    }\n",
              "\n",
              "    .colab-df-convert:hover {\n",
              "      background-color: #E2EBFA;\n",
              "      box-shadow: 0px 1px 2px rgba(60, 64, 67, 0.3), 0px 1px 3px 1px rgba(60, 64, 67, 0.15);\n",
              "      fill: #174EA6;\n",
              "    }\n",
              "\n",
              "    [theme=dark] .colab-df-convert {\n",
              "      background-color: #3B4455;\n",
              "      fill: #D2E3FC;\n",
              "    }\n",
              "\n",
              "    [theme=dark] .colab-df-convert:hover {\n",
              "      background-color: #434B5C;\n",
              "      box-shadow: 0px 1px 3px 1px rgba(0, 0, 0, 0.15);\n",
              "      filter: drop-shadow(0px 1px 2px rgba(0, 0, 0, 0.3));\n",
              "      fill: #FFFFFF;\n",
              "    }\n",
              "  </style>\n",
              "\n",
              "      <script>\n",
              "        const buttonEl =\n",
              "          document.querySelector('#df-842b0748-69d9-42eb-bf9b-d0359150e82e button.colab-df-convert');\n",
              "        buttonEl.style.display =\n",
              "          google.colab.kernel.accessAllowed ? 'block' : 'none';\n",
              "\n",
              "        async function convertToInteractive(key) {\n",
              "          const element = document.querySelector('#df-842b0748-69d9-42eb-bf9b-d0359150e82e');\n",
              "          const dataTable =\n",
              "            await google.colab.kernel.invokeFunction('convertToInteractive',\n",
              "                                                     [key], {});\n",
              "          if (!dataTable) return;\n",
              "\n",
              "          const docLinkHtml = 'Like what you see? Visit the ' +\n",
              "            '<a target=\"_blank\" href=https://colab.research.google.com/notebooks/data_table.ipynb>data table notebook</a>'\n",
              "            + ' to learn more about interactive tables.';\n",
              "          element.innerHTML = '';\n",
              "          dataTable['output_type'] = 'display_data';\n",
              "          await google.colab.output.renderOutput(dataTable, element);\n",
              "          const docLink = document.createElement('div');\n",
              "          docLink.innerHTML = docLinkHtml;\n",
              "          element.appendChild(docLink);\n",
              "        }\n",
              "      </script>\n",
              "    </div>\n",
              "  </div>\n",
              "  "
            ]
          },
          "metadata": {},
          "execution_count": 2
        }
      ],
      "source": [
        "# download the data\n",
        "\n",
        "## Your code here!\n",
        "df = yf.download(tickers=['^GSPC'], start='2004-12-01', end='2022-12-02')\n",
        "df.head()"
      ]
    },
    {
      "cell_type": "code",
      "execution_count": null,
      "metadata": {
        "id": "_IeWEdqn9Eli",
        "colab": {
          "base_uri": "https://localhost:8080/",
          "height": 237
        },
        "outputId": "286cadda-26a4-40ab-df44-9f63e254d023"
      },
      "outputs": [
        {
          "output_type": "execute_result",
          "data": {
            "text/plain": [
              "                   Open         High          Low        Close    Adj Close  \\\n",
              "Date                                                                          \n",
              "2022-11-25  4023.340088  4034.020020  4020.760010  4026.120117  4026.120117   \n",
              "2022-11-28  4005.360107  4012.270020  3955.770020  3963.939941  3963.939941   \n",
              "2022-11-29  3964.189941  3976.770020  3937.649902  3957.629883  3957.629883   \n",
              "2022-11-30  3957.179932  4080.110107  3938.580078  4080.110107  4080.110107   \n",
              "2022-12-01  4087.139893  4100.509766  4050.870117  4076.570068  4076.570068   \n",
              "\n",
              "                Volume  \n",
              "Date                    \n",
              "2022-11-25  1706460000  \n",
              "2022-11-28  3615430000  \n",
              "2022-11-29  3546040000  \n",
              "2022-11-30  6579360000  \n",
              "2022-12-01  4527130000  "
            ],
            "text/html": [
              "\n",
              "  <div id=\"df-ed67b6b9-3acf-4e73-97df-f0f486309496\">\n",
              "    <div class=\"colab-df-container\">\n",
              "      <div>\n",
              "<style scoped>\n",
              "    .dataframe tbody tr th:only-of-type {\n",
              "        vertical-align: middle;\n",
              "    }\n",
              "\n",
              "    .dataframe tbody tr th {\n",
              "        vertical-align: top;\n",
              "    }\n",
              "\n",
              "    .dataframe thead th {\n",
              "        text-align: right;\n",
              "    }\n",
              "</style>\n",
              "<table border=\"1\" class=\"dataframe\">\n",
              "  <thead>\n",
              "    <tr style=\"text-align: right;\">\n",
              "      <th></th>\n",
              "      <th>Open</th>\n",
              "      <th>High</th>\n",
              "      <th>Low</th>\n",
              "      <th>Close</th>\n",
              "      <th>Adj Close</th>\n",
              "      <th>Volume</th>\n",
              "    </tr>\n",
              "    <tr>\n",
              "      <th>Date</th>\n",
              "      <th></th>\n",
              "      <th></th>\n",
              "      <th></th>\n",
              "      <th></th>\n",
              "      <th></th>\n",
              "      <th></th>\n",
              "    </tr>\n",
              "  </thead>\n",
              "  <tbody>\n",
              "    <tr>\n",
              "      <th>2022-11-25</th>\n",
              "      <td>4023.340088</td>\n",
              "      <td>4034.020020</td>\n",
              "      <td>4020.760010</td>\n",
              "      <td>4026.120117</td>\n",
              "      <td>4026.120117</td>\n",
              "      <td>1706460000</td>\n",
              "    </tr>\n",
              "    <tr>\n",
              "      <th>2022-11-28</th>\n",
              "      <td>4005.360107</td>\n",
              "      <td>4012.270020</td>\n",
              "      <td>3955.770020</td>\n",
              "      <td>3963.939941</td>\n",
              "      <td>3963.939941</td>\n",
              "      <td>3615430000</td>\n",
              "    </tr>\n",
              "    <tr>\n",
              "      <th>2022-11-29</th>\n",
              "      <td>3964.189941</td>\n",
              "      <td>3976.770020</td>\n",
              "      <td>3937.649902</td>\n",
              "      <td>3957.629883</td>\n",
              "      <td>3957.629883</td>\n",
              "      <td>3546040000</td>\n",
              "    </tr>\n",
              "    <tr>\n",
              "      <th>2022-11-30</th>\n",
              "      <td>3957.179932</td>\n",
              "      <td>4080.110107</td>\n",
              "      <td>3938.580078</td>\n",
              "      <td>4080.110107</td>\n",
              "      <td>4080.110107</td>\n",
              "      <td>6579360000</td>\n",
              "    </tr>\n",
              "    <tr>\n",
              "      <th>2022-12-01</th>\n",
              "      <td>4087.139893</td>\n",
              "      <td>4100.509766</td>\n",
              "      <td>4050.870117</td>\n",
              "      <td>4076.570068</td>\n",
              "      <td>4076.570068</td>\n",
              "      <td>4527130000</td>\n",
              "    </tr>\n",
              "  </tbody>\n",
              "</table>\n",
              "</div>\n",
              "      <button class=\"colab-df-convert\" onclick=\"convertToInteractive('df-ed67b6b9-3acf-4e73-97df-f0f486309496')\"\n",
              "              title=\"Convert this dataframe to an interactive table.\"\n",
              "              style=\"display:none;\">\n",
              "        \n",
              "  <svg xmlns=\"http://www.w3.org/2000/svg\" height=\"24px\"viewBox=\"0 0 24 24\"\n",
              "       width=\"24px\">\n",
              "    <path d=\"M0 0h24v24H0V0z\" fill=\"none\"/>\n",
              "    <path d=\"M18.56 5.44l.94 2.06.94-2.06 2.06-.94-2.06-.94-.94-2.06-.94 2.06-2.06.94zm-11 1L8.5 8.5l.94-2.06 2.06-.94-2.06-.94L8.5 2.5l-.94 2.06-2.06.94zm10 10l.94 2.06.94-2.06 2.06-.94-2.06-.94-.94-2.06-.94 2.06-2.06.94z\"/><path d=\"M17.41 7.96l-1.37-1.37c-.4-.4-.92-.59-1.43-.59-.52 0-1.04.2-1.43.59L10.3 9.45l-7.72 7.72c-.78.78-.78 2.05 0 2.83L4 21.41c.39.39.9.59 1.41.59.51 0 1.02-.2 1.41-.59l7.78-7.78 2.81-2.81c.8-.78.8-2.07 0-2.86zM5.41 20L4 18.59l7.72-7.72 1.47 1.35L5.41 20z\"/>\n",
              "  </svg>\n",
              "      </button>\n",
              "      \n",
              "  <style>\n",
              "    .colab-df-container {\n",
              "      display:flex;\n",
              "      flex-wrap:wrap;\n",
              "      gap: 12px;\n",
              "    }\n",
              "\n",
              "    .colab-df-convert {\n",
              "      background-color: #E8F0FE;\n",
              "      border: none;\n",
              "      border-radius: 50%;\n",
              "      cursor: pointer;\n",
              "      display: none;\n",
              "      fill: #1967D2;\n",
              "      height: 32px;\n",
              "      padding: 0 0 0 0;\n",
              "      width: 32px;\n",
              "    }\n",
              "\n",
              "    .colab-df-convert:hover {\n",
              "      background-color: #E2EBFA;\n",
              "      box-shadow: 0px 1px 2px rgba(60, 64, 67, 0.3), 0px 1px 3px 1px rgba(60, 64, 67, 0.15);\n",
              "      fill: #174EA6;\n",
              "    }\n",
              "\n",
              "    [theme=dark] .colab-df-convert {\n",
              "      background-color: #3B4455;\n",
              "      fill: #D2E3FC;\n",
              "    }\n",
              "\n",
              "    [theme=dark] .colab-df-convert:hover {\n",
              "      background-color: #434B5C;\n",
              "      box-shadow: 0px 1px 3px 1px rgba(0, 0, 0, 0.15);\n",
              "      filter: drop-shadow(0px 1px 2px rgba(0, 0, 0, 0.3));\n",
              "      fill: #FFFFFF;\n",
              "    }\n",
              "  </style>\n",
              "\n",
              "      <script>\n",
              "        const buttonEl =\n",
              "          document.querySelector('#df-ed67b6b9-3acf-4e73-97df-f0f486309496 button.colab-df-convert');\n",
              "        buttonEl.style.display =\n",
              "          google.colab.kernel.accessAllowed ? 'block' : 'none';\n",
              "\n",
              "        async function convertToInteractive(key) {\n",
              "          const element = document.querySelector('#df-ed67b6b9-3acf-4e73-97df-f0f486309496');\n",
              "          const dataTable =\n",
              "            await google.colab.kernel.invokeFunction('convertToInteractive',\n",
              "                                                     [key], {});\n",
              "          if (!dataTable) return;\n",
              "\n",
              "          const docLinkHtml = 'Like what you see? Visit the ' +\n",
              "            '<a target=\"_blank\" href=https://colab.research.google.com/notebooks/data_table.ipynb>data table notebook</a>'\n",
              "            + ' to learn more about interactive tables.';\n",
              "          element.innerHTML = '';\n",
              "          dataTable['output_type'] = 'display_data';\n",
              "          await google.colab.output.renderOutput(dataTable, element);\n",
              "          const docLink = document.createElement('div');\n",
              "          docLink.innerHTML = docLinkHtml;\n",
              "          element.appendChild(docLink);\n",
              "        }\n",
              "      </script>\n",
              "    </div>\n",
              "  </div>\n",
              "  "
            ]
          },
          "metadata": {},
          "execution_count": 3
        }
      ],
      "source": [
        "df.tail()"
      ]
    },
    {
      "cell_type": "code",
      "execution_count": null,
      "metadata": {
        "id": "rjEBsJ-h9JA7",
        "colab": {
          "base_uri": "https://localhost:8080/"
        },
        "outputId": "8696e4f2-8212-4e18-93e5-999360c3b72e"
      },
      "outputs": [
        {
          "output_type": "execute_result",
          "data": {
            "text/plain": [
              "False"
            ]
          },
          "metadata": {},
          "execution_count": 4
        }
      ],
      "source": [
        "df.isna().any().any()"
      ]
    },
    {
      "cell_type": "code",
      "execution_count": null,
      "metadata": {
        "id": "pT2-kSV3WSI1",
        "colab": {
          "base_uri": "https://localhost:8080/",
          "height": 444
        },
        "outputId": "95130060-c751-40e7-b101-009346c1d66f"
      },
      "outputs": [
        {
          "output_type": "execute_result",
          "data": {
            "text/plain": [
              "<Axes: xlabel='Date'>"
            ]
          },
          "metadata": {},
          "execution_count": 5
        },
        {
          "output_type": "display_data",
          "data": {
            "text/plain": [
              "<Figure size 640x480 with 1 Axes>"
            ],
            "image/png": "[encoded data removed]"
          },
          "metadata": {}
        }
      ],
      "source": [
        "# Plot\n",
        "ohlcv_df = df.drop(columns=['Close'])  # dropping close price, will use adj close price as close price\n",
        "ohlcv_df = ohlcv_df.rename(columns={'Adj Close': 'Close'})\n",
        "ohlcv_df[['Open', 'High', 'Low', 'Close']].plot()"
      ]
    },
    {
      "cell_type": "code",
      "execution_count": null,
      "metadata": {
        "id": "5aXRviU3W0ys",
        "colab": {
          "base_uri": "https://localhost:8080/",
          "height": 455
        },
        "outputId": "ce26c4e6-dcdf-4692-f0fa-dc3e04a06e9f"
      },
      "outputs": [
        {
          "output_type": "execute_result",
          "data": {
            "text/plain": [
              "<Axes: xlabel='Date'>"
            ]
          },
          "metadata": {},
          "execution_count": 6
        },
        {
          "output_type": "display_data",
          "data": {
            "text/plain": [
              "<Figure size 640x480 with 1 Axes>"
            ],
            "image/png": "[encoded data removed]"
          },
          "metadata": {}
        }
      ],
      "source": [
        "ohlcv_df[['Volume']].plot()"
      ]
    },
    {
      "cell_type": "markdown",
      "metadata": {
        "id": "2aj3v27-gzEi"
      },
      "source": []
    },
    {
      "cell_type": "markdown",
      "metadata": {
        "id": "8KjWNbXqfZju"
      },
      "source": [
        "#2. Feature Engineering (2pts) \n",
        "* For this part, you can choose and compute any feature you like (most features work in deep learning models as long as they are normalized).  \n",
        "\n",
        "* Do not include data that is not published or can't be accessed on the predicting date, this will bring information leakage problems.  \n",
        "\n",
        "* Split the data into train and test set."
      ]
    },
    {
      "cell_type": "code",
      "execution_count": null,
      "metadata": {
        "id": "IZjqGkgbfYIb"
      },
      "outputs": [],
      "source": [
        "## Your code here!\n",
        "test_start = '2022-01-01'\n",
        "test_end = '2022-11-30'"
      ]
    },
    {
      "cell_type": "code",
      "execution_count": null,
      "metadata": {
        "id": "1DRtLWYcwWxx",
        "colab": {
          "base_uri": "https://localhost:8080/",
          "height": 237
        },
        "outputId": "55ec8cde-e4d0-45da-cc56-ddacc7436b05"
      },
      "outputs": [
        {
          "output_type": "execute_result",
          "data": {
            "text/plain": [
              "                ret1      ret2      ret3      ret4      ret5      ret6  \\\n",
              "Date                                                                     \n",
              "2004-12-30  0.000082  0.000008  0.007162  0.002826  0.003291  0.006720   \n",
              "2004-12-31 -0.001343 -0.001261 -0.001335  0.005810  0.001479  0.001943   \n",
              "2005-01-03 -0.008119 -0.009452 -0.009370 -0.009444 -0.002357 -0.006652   \n",
              "2005-01-04 -0.011671 -0.019696 -0.021013 -0.020932 -0.021005 -0.014001   \n",
              "2005-01-05 -0.003628 -0.015257 -0.023252 -0.024564 -0.024484 -0.024556   \n",
              "\n",
              "                ret7      ret8      ret9     ret10     ret11     ret12  \\\n",
              "Date                                                                     \n",
              "2004-12-30  0.015821  0.016203  0.008594  0.006494  0.008451  0.012405   \n",
              "2004-12-31  0.005367  0.014456  0.014838  0.007239  0.005142  0.007097   \n",
              "2005-01-03 -0.006192 -0.002796  0.006219  0.006599 -0.000939 -0.003019   \n",
              "2005-01-04 -0.018246 -0.017791 -0.014434 -0.005525 -0.005150 -0.012600   \n",
              "2005-01-05 -0.017578 -0.021808 -0.021355 -0.018010 -0.009132 -0.008759   \n",
              "\n",
              "               ret13     ret14     ret15     ret16     ret17     ret18  \\\n",
              "Date                                                                     \n",
              "2004-12-30  0.021507  0.020442  0.025989  0.030992  0.019576  0.018788   \n",
              "2004-12-31  0.011045  0.020135  0.019071  0.024611  0.029607  0.018206   \n",
              "2005-01-03 -0.001080  0.002836  0.011852  0.010797  0.016292  0.021248   \n",
              "2005-01-04 -0.014655 -0.012739 -0.008868  0.000042 -0.001001  0.004430   \n",
              "2005-01-05 -0.016182 -0.018230 -0.016321 -0.012464 -0.003586 -0.004625   \n",
              "\n",
              "               ret19     ret20  \n",
              "Date                            \n",
              "2004-12-30  0.019507  0.018617  \n",
              "2004-12-31  0.017420  0.018138  \n",
              "2005-01-03  0.009939  0.009159  \n",
              "2005-01-04  0.009328 -0.001848  \n",
              "2005-01-05  0.000786  0.005667  "
            ],
            "text/html": [
              "\n",
              "  <div id=\"df-b39711cc-aaaf-4f58-93b6-f02a7df27fb3\">\n",
              "    <div class=\"colab-df-container\">\n",
              "      <div>\n",
              "<style scoped>\n",
              "    .dataframe tbody tr th:only-of-type {\n",
              "        vertical-align: middle;\n",
              "    }\n",
              "\n",
              "    .dataframe tbody tr th {\n",
              "        vertical-align: top;\n",
              "    }\n",
              "\n",
              "    .dataframe thead th {\n",
              "        text-align: right;\n",
              "    }\n",
              "</style>\n",
              "<table border=\"1\" class=\"dataframe\">\n",
              "  <thead>\n",
              "    <tr style=\"text-align: right;\">\n",
              "      <th></th>\n",
              "      <th>ret1</th>\n",
              "      <th>ret2</th>\n",
              "      <th>ret3</th>\n",
              "      <th>ret4</th>\n",
              "      <th>ret5</th>\n",
              "      <th>ret6</th>\n",
              "      <th>ret7</th>\n",
              "      <th>ret8</th>\n",
              "      <th>ret9</th>\n",
              "      <th>ret10</th>\n",
              "      <th>ret11</th>\n",
              "      <th>ret12</th>\n",
              "      <th>ret13</th>\n",
              "      <th>ret14</th>\n",
              "      <th>ret15</th>\n",
              "      <th>ret16</th>\n",
              "      <th>ret17</th>\n",
              "      <th>ret18</th>\n",
              "      <th>ret19</th>\n",
              "      <th>ret20</th>\n",
              "    </tr>\n",
              "    <tr>\n",
              "      <th>Date</th>\n",
              "      <th></th>\n",
              "      <th></th>\n",
              "      <th></th>\n",
              "      <th></th>\n",
              "      <th></th>\n",
              "      <th></th>\n",
              "      <th></th>\n",
              "      <th></th>\n",
              "      <th></th>\n",
              "      <th></th>\n",
              "      <th></th>\n",
              "      <th></th>\n",
              "      <th></th>\n",
              "      <th></th>\n",
              "      <th></th>\n",
              "      <th></th>\n",
              "      <th></th>\n",
              "      <th></th>\n",
              "      <th></th>\n",
              "      <th></th>\n",
              "    </tr>\n",
              "  </thead>\n",
              "  <tbody>\n",
              "    <tr>\n",
              "      <th>2004-12-30</th>\n",
              "      <td>0.000082</td>\n",
              "      <td>0.000008</td>\n",
              "      <td>0.007162</td>\n",
              "      <td>0.002826</td>\n",
              "      <td>0.003291</td>\n",
              "      <td>0.006720</td>\n",
              "      <td>0.015821</td>\n",
              "      <td>0.016203</td>\n",
              "      <td>0.008594</td>\n",
              "      <td>0.006494</td>\n",
              "      <td>0.008451</td>\n",
              "      <td>0.012405</td>\n",
              "      <td>0.021507</td>\n",
              "      <td>0.020442</td>\n",
              "      <td>0.025989</td>\n",
              "      <td>0.030992</td>\n",
              "      <td>0.019576</td>\n",
              "      <td>0.018788</td>\n",
              "      <td>0.019507</td>\n",
              "      <td>0.018617</td>\n",
              "    </tr>\n",
              "    <tr>\n",
              "      <th>2004-12-31</th>\n",
              "      <td>-0.001343</td>\n",
              "      <td>-0.001261</td>\n",
              "      <td>-0.001335</td>\n",
              "      <td>0.005810</td>\n",
              "      <td>0.001479</td>\n",
              "      <td>0.001943</td>\n",
              "      <td>0.005367</td>\n",
              "      <td>0.014456</td>\n",
              "      <td>0.014838</td>\n",
              "      <td>0.007239</td>\n",
              "      <td>0.005142</td>\n",
              "      <td>0.007097</td>\n",
              "      <td>0.011045</td>\n",
              "      <td>0.020135</td>\n",
              "      <td>0.019071</td>\n",
              "      <td>0.024611</td>\n",
              "      <td>0.029607</td>\n",
              "      <td>0.018206</td>\n",
              "      <td>0.017420</td>\n",
              "      <td>0.018138</td>\n",
              "    </tr>\n",
              "    <tr>\n",
              "      <th>2005-01-03</th>\n",
              "      <td>-0.008119</td>\n",
              "      <td>-0.009452</td>\n",
              "      <td>-0.009370</td>\n",
              "      <td>-0.009444</td>\n",
              "      <td>-0.002357</td>\n",
              "      <td>-0.006652</td>\n",
              "      <td>-0.006192</td>\n",
              "      <td>-0.002796</td>\n",
              "      <td>0.006219</td>\n",
              "      <td>0.006599</td>\n",
              "      <td>-0.000939</td>\n",
              "      <td>-0.003019</td>\n",
              "      <td>-0.001080</td>\n",
              "      <td>0.002836</td>\n",
              "      <td>0.011852</td>\n",
              "      <td>0.010797</td>\n",
              "      <td>0.016292</td>\n",
              "      <td>0.021248</td>\n",
              "      <td>0.009939</td>\n",
              "      <td>0.009159</td>\n",
              "    </tr>\n",
              "    <tr>\n",
              "      <th>2005-01-04</th>\n",
              "      <td>-0.011671</td>\n",
              "      <td>-0.019696</td>\n",
              "      <td>-0.021013</td>\n",
              "      <td>-0.020932</td>\n",
              "      <td>-0.021005</td>\n",
              "      <td>-0.014001</td>\n",
              "      <td>-0.018246</td>\n",
              "      <td>-0.017791</td>\n",
              "      <td>-0.014434</td>\n",
              "      <td>-0.005525</td>\n",
              "      <td>-0.005150</td>\n",
              "      <td>-0.012600</td>\n",
              "      <td>-0.014655</td>\n",
              "      <td>-0.012739</td>\n",
              "      <td>-0.008868</td>\n",
              "      <td>0.000042</td>\n",
              "      <td>-0.001001</td>\n",
              "      <td>0.004430</td>\n",
              "      <td>0.009328</td>\n",
              "      <td>-0.001848</td>\n",
              "    </tr>\n",
              "    <tr>\n",
              "      <th>2005-01-05</th>\n",
              "      <td>-0.003628</td>\n",
              "      <td>-0.015257</td>\n",
              "      <td>-0.023252</td>\n",
              "      <td>-0.024564</td>\n",
              "      <td>-0.024484</td>\n",
              "      <td>-0.024556</td>\n",
              "      <td>-0.017578</td>\n",
              "      <td>-0.021808</td>\n",
              "      <td>-0.021355</td>\n",
              "      <td>-0.018010</td>\n",
              "      <td>-0.009132</td>\n",
              "      <td>-0.008759</td>\n",
              "      <td>-0.016182</td>\n",
              "      <td>-0.018230</td>\n",
              "      <td>-0.016321</td>\n",
              "      <td>-0.012464</td>\n",
              "      <td>-0.003586</td>\n",
              "      <td>-0.004625</td>\n",
              "      <td>0.000786</td>\n",
              "      <td>0.005667</td>\n",
              "    </tr>\n",
              "  </tbody>\n",
              "</table>\n",
              "</div>\n",
              "      <button class=\"colab-df-convert\" onclick=\"convertToInteractive('df-b39711cc-aaaf-4f58-93b6-f02a7df27fb3')\"\n",
              "              title=\"Convert this dataframe to an interactive table.\"\n",
              "              style=\"display:none;\">\n",
              "        \n",
              "  <svg xmlns=\"http://www.w3.org/2000/svg\" height=\"24px\"viewBox=\"0 0 24 24\"\n",
              "       width=\"24px\">\n",
              "    <path d=\"M0 0h24v24H0V0z\" fill=\"none\"/>\n",
              "    <path d=\"M18.56 5.44l.94 2.06.94-2.06 2.06-.94-2.06-.94-.94-2.06-.94 2.06-2.06.94zm-11 1L8.5 8.5l.94-2.06 2.06-.94-2.06-.94L8.5 2.5l-.94 2.06-2.06.94zm10 10l.94 2.06.94-2.06 2.06-.94-2.06-.94-.94-2.06-.94 2.06-2.06.94z\"/><path d=\"M17.41 7.96l-1.37-1.37c-.4-.4-.92-.59-1.43-.59-.52 0-1.04.2-1.43.59L10.3 9.45l-7.72 7.72c-.78.78-.78 2.05 0 2.83L4 21.41c.39.39.9.59 1.41.59.51 0 1.02-.2 1.41-.59l7.78-7.78 2.81-2.81c.8-.78.8-2.07 0-2.86zM5.41 20L4 18.59l7.72-7.72 1.47 1.35L5.41 20z\"/>\n",
              "  </svg>\n",
              "      </button>\n",
              "      \n",
              "  <style>\n",
              "    .colab-df-container {\n",
              "      display:flex;\n",
              "      flex-wrap:wrap;\n",
              "      gap: 12px;\n",
              "    }\n",
              "\n",
              "    .colab-df-convert {\n",
              "      background-color: #E8F0FE;\n",
              "      border: none;\n",
              "      border-radius: 50%;\n",
              "      cursor: pointer;\n",
              "      display: none;\n",
              "      fill: #1967D2;\n",
              "      height: 32px;\n",
              "      padding: 0 0 0 0;\n",
              "      width: 32px;\n",
              "    }\n",
              "\n",
              "    .colab-df-convert:hover {\n",
              "      background-color: #E2EBFA;\n",
              "      box-shadow: 0px 1px 2px rgba(60, 64, 67, 0.3), 0px 1px 3px 1px rgba(60, 64, 67, 0.15);\n",
              "      fill: #174EA6;\n",
              "    }\n",
              "\n",
              "    [theme=dark] .colab-df-convert {\n",
              "      background-color: #3B4455;\n",
              "      fill: #D2E3FC;\n",
              "    }\n",
              "\n",
              "    [theme=dark] .colab-df-convert:hover {\n",
              "      background-color: #434B5C;\n",
              "      box-shadow: 0px 1px 3px 1px rgba(0, 0, 0, 0.15);\n",
              "      filter: drop-shadow(0px 1px 2px rgba(0, 0, 0, 0.3));\n",
              "      fill: #FFFFFF;\n",
              "    }\n",
              "  </style>\n",
              "\n",
              "      <script>\n",
              "        const buttonEl =\n",
              "          document.querySelector('#df-b39711cc-aaaf-4f58-93b6-f02a7df27fb3 button.colab-df-convert');\n",
              "        buttonEl.style.display =\n",
              "          google.colab.kernel.accessAllowed ? 'block' : 'none';\n",
              "\n",
              "        async function convertToInteractive(key) {\n",
              "          const element = document.querySelector('#df-b39711cc-aaaf-4f58-93b6-f02a7df27fb3');\n",
              "          const dataTable =\n",
              "            await google.colab.kernel.invokeFunction('convertToInteractive',\n",
              "                                                     [key], {});\n",
              "          if (!dataTable) return;\n",
              "\n",
              "          const docLinkHtml = 'Like what you see? Visit the ' +\n",
              "            '<a target=\"_blank\" href=https://colab.research.google.com/notebooks/data_table.ipynb>data table notebook</a>'\n",
              "            + ' to learn more about interactive tables.';\n",
              "          element.innerHTML = '';\n",
              "          dataTable['output_type'] = 'display_data';\n",
              "          await google.colab.output.renderOutput(dataTable, element);\n",
              "          const docLink = document.createElement('div');\n",
              "          docLink.innerHTML = docLinkHtml;\n",
              "          element.appendChild(docLink);\n",
              "        }\n",
              "      </script>\n",
              "    </div>\n",
              "  </div>\n",
              "  "
            ]
          },
          "metadata": {},
          "execution_count": 8
        }
      ],
      "source": [
        "#momentum features\n",
        "mom_ftr_df = pd.DataFrame()\n",
        "for n in list(range(1,21)):\n",
        "  ret_period = ohlcv_df['Close'].pct_change(periods=n)\n",
        "  name = 'ret' + str(n)\n",
        "  mom_ftr_df[name] = ret_period\n",
        "mom_ftr_df = mom_ftr_df.dropna(axis=0, how='any')\n",
        "mom_ftr_df.head()"
      ]
    },
    {
      "cell_type": "code",
      "execution_count": null,
      "metadata": {
        "id": "3ATzzdJ_lTMU"
      },
      "outputs": [],
      "source": [
        "# Day of month/week feature\n",
        "day_ftr_df = pd.DataFrame()\n",
        "day_ftr_df['DoM'] = ohlcv_df.index.day\n",
        "day_ftr_df['DoW'] = ohlcv_df.index.day_of_week\n",
        "day_ftr_df.index = ohlcv_df.index"
      ]
    },
    {
      "cell_type": "code",
      "execution_count": null,
      "metadata": {
        "id": "iPax8f2HlA7i"
      },
      "outputs": [],
      "source": [
        "# Combine all features, generate Y,\n",
        "X_df = pd.concat([ohlcv_df, mom_ftr_df, day_ftr_df], axis=1)\n",
        "X_df = X_df.dropna(axis=0, how='any')\n",
        "X_df['y'] = X_df['ret1'] > 0\n",
        "X_df['y'] = X_df['y'].shift(-1)\n",
        "X_df = X_df.dropna(axis=0, how='any')\n",
        "y = X_df['y']\n",
        "X_df = X_df.drop(columns=['y'])"
      ]
    },
    {
      "cell_type": "code",
      "execution_count": null,
      "metadata": {
        "id": "jcYd6pEw1Rcx"
      },
      "outputs": [],
      "source": [
        "#  Split data into train and test\n",
        "X_df_train = X_df[X_df.index < test_start]\n",
        "X_df_test = X_df[(X_df.index >= test_start) & (X_df.index <= test_end)]\n",
        "y_train = np.array(y[y.index < test_start].astype(float))\n",
        "y_test = np.array(y[(y.index >= test_start) & (y.index <= test_end)].astype(float))"
      ]
    },
    {
      "cell_type": "code",
      "execution_count": null,
      "metadata": {
        "id": "dNy3VltQc2Oy",
        "colab": {
          "base_uri": "https://localhost:8080/"
        },
        "outputId": "becf3cad-693b-4ea5-f84d-dcb511eb5001"
      },
      "outputs": [
        {
          "output_type": "stream",
          "name": "stdout",
          "text": [
            "(4282, 5) (230, 5)\n"
          ]
        }
      ],
      "source": [
        "# Add dummy columns for day of month and day of week\n",
        "# cat_cols = ['DoM', 'DoW']\n",
        "cat_cols = ['DoW']\n",
        "onehot = OneHotEncoder(handle_unknown='ignore').fit(X_df_train[cat_cols].values)\n",
        "X_cat_train = onehot.transform(X_df_train[cat_cols].values).toarray()\n",
        "X_cat_test = onehot.transform(X_df_test[cat_cols].values).toarray()\n",
        "print(X_cat_train.shape, X_cat_test.shape)"
      ]
    },
    {
      "cell_type": "code",
      "execution_count": null,
      "metadata": {
        "id": "FCMeZ-FGtN4k",
        "colab": {
          "base_uri": "https://localhost:8080/"
        },
        "outputId": "8888f3b2-8b81-49bd-c21c-347ea7c5a7ca"
      },
      "outputs": [
        {
          "output_type": "stream",
          "name": "stdout",
          "text": [
            "(4282, 4) (230, 4)\n"
          ]
        }
      ],
      "source": [
        "# Seperate out ohlc features from volume and momentum features and perform min-max scaling\n",
        "ohlc_cols = ['Open', 'High', 'Low', 'Close']\n",
        "ohlc_df_train = X_df_train[ohlc_cols]\n",
        "ohlc_df_test = X_df_test[ohlc_cols]\n",
        "max_ = ohlc_df_train.max().max()\n",
        "min_ = ohlc_df_train.min().min()\n",
        "X_ohlc_train = ((ohlc_df_train - min_)/(max_ - min_)).values\n",
        "X_ohlc_test = ((ohlc_df_test - min_)/(max_ - min_)).values\n",
        "print(X_ohlc_train.shape, X_ohlc_test.shape)"
      ]
    },
    {
      "cell_type": "code",
      "execution_count": null,
      "metadata": {
        "id": "OzkNRhX6iW5H",
        "colab": {
          "base_uri": "https://localhost:8080/"
        },
        "outputId": "844bf6ca-c3c1-42dd-e750-b7f86da818cb"
      },
      "outputs": [
        {
          "output_type": "stream",
          "name": "stdout",
          "text": [
            "(4282, 22) (230, 22)\n"
          ]
        }
      ],
      "source": [
        "# apply standard scalar to vol and mom features\n",
        "vm_cols = list(set(X_df.columns) - set(ohlc_cols) - set(cat_cols))\n",
        "vm_df_train = X_df_train[vm_cols]\n",
        "vm_df_test = X_df_test[vm_cols]\n",
        "scl = StandardScaler().fit(vm_df_train.values)\n",
        "X_vm_train = scl.transform(vm_df_train.values)\n",
        "X_vm_test = scl.transform(vm_df_test.values)\n",
        "print(X_vm_train.shape, X_vm_test.shape)"
      ]
    },
    {
      "cell_type": "code",
      "execution_count": null,
      "metadata": {
        "id": "GmoRblGRWgI-"
      },
      "outputs": [],
      "source": [
        "# Adding ohlc data for previous n_timesteps days for each day\n",
        "def split_sequences(sequences, n_timesteps):\n",
        "    X = list()\n",
        "    for i in range(len(sequences)):\n",
        "        # find the end of this pattern\n",
        "        end_ix = i + n_timesteps\n",
        "        # check if we are beyond the dataset\n",
        "        if end_ix > len(sequences):\n",
        "            break\n",
        "        # gather input parts of the pattern\n",
        "        seq_x = sequences[i:end_ix, :-1]\n",
        "        X.append(seq_x)\n",
        "    X = np.array(X)\n",
        "    return X.reshape(X.shape[0], -1)"
      ]
    },
    {
      "cell_type": "code",
      "execution_count": null,
      "metadata": {
        "id": "m_xV-6W0X62V",
        "colab": {
          "base_uri": "https://localhost:8080/"
        },
        "outputId": "829acbdf-24ee-42bb-9fec-ed134dadbd37"
      },
      "outputs": [
        {
          "output_type": "stream",
          "name": "stdout",
          "text": [
            "(4278, 15) (230, 15)\n"
          ]
        }
      ],
      "source": [
        "# Adding ohlc data for previous n_timesteps days for each day\n",
        "n_timesteps = 5\n",
        "X_ohlc = np.concatenate([X_ohlc_train, X_ohlc_test], axis=0)\n",
        "X_ohlc = split_sequences(X_ohlc, n_timesteps)\n",
        "test_size = X_ohlc_test.shape[0]\n",
        "X_ohlc_train = X_ohlc[:-test_size, :]\n",
        "X_ohlc_test = X_ohlc[-test_size:, :]\n",
        "print(X_ohlc_train.shape, X_ohlc_test.shape)"
      ]
    },
    {
      "cell_type": "code",
      "execution_count": null,
      "metadata": {
        "id": "wgAOfxLNmJPq",
        "colab": {
          "base_uri": "https://localhost:8080/"
        },
        "outputId": "f8f38e7b-44eb-4a10-aac4-326500e8d9ae"
      },
      "outputs": [
        {
          "output_type": "stream",
          "name": "stdout",
          "text": [
            "(4282, 5) (4282, 22) (4282,)\n",
            "(4278, 5) (4278, 22) (4278,)\n"
          ]
        }
      ],
      "source": [
        "# Trim starting days of X components based on n_timesteps\n",
        "print(X_cat_train.shape, X_vm_train.shape, y_train.shape)\n",
        "X_cat_train = X_cat_train[n_timesteps-1:, :]\n",
        "X_vm_train = X_vm_train[n_timesteps-1:, :]\n",
        "y_train = y_train[n_timesteps-1:]\n",
        "print(X_cat_train.shape, X_vm_train.shape, y_train.shape)"
      ]
    },
    {
      "cell_type": "code",
      "execution_count": null,
      "metadata": {
        "id": "dlXHsDg4Zdsf",
        "colab": {
          "base_uri": "https://localhost:8080/"
        },
        "outputId": "35c589a5-6ece-46dc-8499-14900466acae"
      },
      "outputs": [
        {
          "output_type": "stream",
          "name": "stdout",
          "text": [
            "(4278, 42) (4278,)\n",
            "(230, 42) (230,)\n"
          ]
        }
      ],
      "source": [
        "# generate final X\n",
        "X_train = np.concatenate([X_cat_train, X_ohlc_train, X_vm_train], axis=1)\n",
        "X_test = np.concatenate([X_cat_test, X_ohlc_test, X_vm_test], axis=1)\n",
        "# X_train = np.concatenate([X_ohlc_train, X_vm_train], axis=1)\n",
        "# X_test = np.concatenate([X_ohlc_test, X_vm_test], axis=1)\n",
        "print(X_train.shape, y_train.shape)\n",
        "print(X_test.shape, y_test.shape)"
      ]
    },
    {
      "cell_type": "code",
      "execution_count": null,
      "metadata": {
        "id": "90MAMToW7NpX",
        "colab": {
          "base_uri": "https://localhost:8080/"
        },
        "outputId": "d6e87ee6-3f06-43e2-a727-8b900b270cfc"
      },
      "outputs": [
        {
          "output_type": "execute_result",
          "data": {
            "text/plain": [
              "(2354.0, 1924.0)"
            ]
          },
          "metadata": {},
          "execution_count": 19
        }
      ],
      "source": [
        "# Compute class 1 and 0 sizes\n",
        "class_1 = y_train.sum()\n",
        "class_0 = len(y_train)-class_1\n",
        "class_1,class_0"
      ]
    },
    {
      "cell_type": "code",
      "execution_count": null,
      "metadata": {
        "id": "2pEHKTLk7gM7"
      },
      "outputs": [],
      "source": [
        "class_0_percentage=class_0/len(y_train)\n",
        "class_1_percentage=class_1/len(y_train)\n",
        "\n",
        "class_0_weight=class_1_percentage\n",
        "class_1_weight=class_0_percentage\n",
        "\n",
        "class_weight={0:class_0_weight,1:class_1_weight}"
      ]
    },
    {
      "cell_type": "markdown",
      "metadata": {
        "id": "WhDvqiPnHccB"
      },
      "source": [
        "#3. Deep Learning Binary Classification (6 pts)"
      ]
    },
    {
      "cell_type": "markdown",
      "metadata": {
        "id": "JoNmgbgWHjGs"
      },
      "source": [
        "* Either [Pytorch](https://pytorch.org/tutorials/beginner/deep_learning_60min_blitz.html) or [Tensorflow](https://www.tensorflow.org/tutorials/quickstart/beginner) is allowed to use.\n",
        "* You can choose any type of deep learning architecture, e.g., LSTM, GRU, CNN, it is up to you.  \n",
        "* You can implement an option to save your model after training, but this is optional. Print the ROC(AUC) and the train loss as well as the test loss. And plot scores vs. training epochs with 4 curves. \n",
        "* Remember to **set the random seed** (random state) so that when we run your software, we get similar results (the results doesn't have to be exactly the same). \n",
        "* Prevent overfitting by setting early stop, perform hyperparameters tuning, conduct validation test, etc.    \n",
        "* And lastly, remember this is the stock market, so it is **difficult** to have an accuracy above 50%, and you won't be deducted any point for bad prediction results, good luck!\n",
        "* Write a paragraph analyzing the results."
      ]
    },
    {
      "cell_type": "code",
      "execution_count": null,
      "metadata": {
        "id": "Rzk2wizgHwlP"
      },
      "outputs": [],
      "source": [
        "## Your code here!\n",
        "from keras.models import Sequential\n",
        "from keras.layers import Dropout\n",
        "from keras.layers import Dense\n",
        "from keras.callbacks import ModelCheckpoint\n",
        "from keras.callbacks import ReduceLROnPlateau\n",
        "from keras.callbacks import EarlyStopping\n",
        "from keras.optimizers import Adam\n",
        "from sklearn.metrics import roc_auc_score\n",
        "from sklearn.metrics import accuracy_score"
      ]
    },
    {
      "cell_type": "code",
      "execution_count": null,
      "metadata": {
        "id": "dSmj8HCMVj6O"
      },
      "outputs": [],
      "source": [
        "np.random.seed(42)"
      ]
    },
    {
      "cell_type": "code",
      "execution_count": null,
      "metadata": {
        "id": "9wi6tyyV8m_l"
      },
      "outputs": [],
      "source": [
        "# Model initialization Parameters\n",
        "dropout_ratio=0.23\n",
        "momentum=0.99 #helps prevent getting stuck in a local minimum\n",
        "neurons=2**13\n",
        "ker_init = 'he_normal'\n",
        "# act_1='tanh' \n",
        "act_1='sigmoid' \n",
        "act_2='sigmoid'"
      ]
    },
    {
      "cell_type": "code",
      "execution_count": null,
      "metadata": {
        "id": "3_YaOVMrLIPv"
      },
      "outputs": [],
      "source": [
        "# Model fit parameters\n",
        "optimizer=Adam(learning_rate=1e-3) \n",
        "epochs = 100\n",
        "batch_size = 512\n",
        "validation_split = 0.2\n",
        "callbacks = [\n",
        "    ReduceLROnPlateau(\n",
        "        monitor='val_loss',\n",
        "        factor=0.1,\n",
        "        patience=150,\n",
        "        verbose=1\n",
        "    ),\n",
        "    EarlyStopping(\n",
        "        monitor='val_loss',\n",
        "        patience=150,\n",
        "        verbose=1,\n",
        "        mode='auto',\n",
        "        restore_best_weights=True\n",
        "    )\n",
        "]"
      ]
    },
    {
      "cell_type": "code",
      "execution_count": null,
      "metadata": {
        "id": "5YQwX4DW-P4O"
      },
      "outputs": [],
      "source": [
        "# DNN model\n",
        "model = Sequential()\n",
        "\n",
        "# Input layer followed by hidden layer 1\n",
        "model.add(Dense(neurons, use_bias=True, kernel_initializer=ker_init, bias_initializer='zeros', input_shape=X_train.shape[1:], activation=act_1))\n",
        "model.add(Dropout(dropout_ratio))\n",
        "\n",
        "# hidden layer 2\n",
        "model.add(Dense(neurons/2, use_bias=True, kernel_initializer=ker_init, bias_initializer='zeros', activation=act_1))\n",
        "model.add(Dropout(dropout_ratio))\n",
        "\n",
        "# hidden layer 3\n",
        "model.add(Dense(neurons/4, use_bias=True, kernel_initializer=ker_init, bias_initializer='zeros', activation=act_1))\n",
        "model.add(Dropout(dropout_ratio))\n",
        "\n",
        "# hidden layer 4\n",
        "model.add(Dense(neurons/8, use_bias=True, kernel_initializer=ker_init, bias_initializer='zeros', activation=act_1))\n",
        "model.add(Dropout(dropout_ratio))\n",
        "\n",
        "# hidden layer 5\n",
        "model.add(Dense(neurons/16, use_bias=True, kernel_initializer=ker_init, bias_initializer='zeros', activation=act_1))\n",
        "model.add(Dropout(dropout_ratio))\n",
        "\n",
        "# hidden layer 6\n",
        "# model.add(Dense(neurons, use_bias=True, kernel_initializer=ker_init, bias_initializer='zeros', activation=act_1))\n",
        "# model.add(Dropout(dropout_ratio))\n",
        "\n",
        "# # hidden layer 7\n",
        "# model.add(Dense(neurons, use_bias=True, kernel_initializer=ker_init, bias_initializer='zeros', activation=act_1))\n",
        "# model.add(Dropout(dropout_ratio))\n",
        "\n",
        "# # hidden layer 8\n",
        "# model.add(Dense(neurons, use_bias=True, kernel_initializer=ker_init, bias_initializer='zeros', activation=act_1))\n",
        "# model.add(Dropout(dropout_ratio))\n",
        "\n",
        "# # hidden layer 9\n",
        "# model.add(Dense(neurons, use_bias=True, kernel_initializer=ker_init, bias_initializer='zeros', activation=act_1))\n",
        "# model.add(Dropout(dropout_ratio))\n",
        "\n",
        "# # hidden layer 10\n",
        "# model.add(Dense(neurons, use_bias=True, kernel_initializer=ker_init, bias_initializer='zeros', activation=act_1))\n",
        "# model.add(Dropout(dropout_ratio))\n",
        "\n",
        "# # hidden layer 11\n",
        "# model.add(Dense(neurons, use_bias=True, kernel_initializer=ker_init, bias_initializer='zeros', activation=act_1))\n",
        "# model.add(Dropout(dropout_ratio))\n",
        "\n",
        "# # hidden layer 12\n",
        "# model.add(Dense(neurons, use_bias=True, kernel_initializer=ker_init, bias_initializer='zeros', activation=act_1))\n",
        "# model.add(Dropout(dropout_ratio))\n",
        "\n",
        "# # hidden layer 13\n",
        "# model.add(Dense(neurons, use_bias=True, kernel_initializer=ker_init, bias_initializer='zeros', activation=act_1))\n",
        "# model.add(Dropout(dropout_ratio))\n",
        "\n",
        "# # hidden layer 14\n",
        "# model.add(Dense(neurons, use_bias=True, kernel_initializer=ker_init, bias_initializer='zeros', activation=act_1))\n",
        "# model.add(Dropout(dropout_ratio))\n",
        "\n",
        "# # hidden layer 15\n",
        "# model.add(Dense(neurons, use_bias=True, kernel_initializer=ker_init, bias_initializer='zeros', activation=act_1))\n",
        "# model.add(Dropout(dropout_ratio))\n",
        "\n",
        "# output layer\n",
        "model.add(Dense(1, activation=act_2))\n",
        "\n",
        "model.compile(loss='binary_crossentropy', metrics=['acc'], optimizer=optimizer)"
      ]
    },
    {
      "cell_type": "code",
      "execution_count": null,
      "metadata": {
        "id": "G2ehh35tC0-I",
        "colab": {
          "base_uri": "https://localhost:8080/"
        },
        "outputId": "45831763-0b08-4e05-bf5f-a9590b8606b1"
      },
      "outputs": [
        {
          "output_type": "stream",
          "name": "stdout",
          "text": [
            "Model: \"sequential\"\n",
            "_________________________________________________________________\n",
            " Layer (type)                Output Shape              Param #   \n",
            "=================================================================\n",
            " dense (Dense)               (None, 8192)              352256    \n",
            "                                                                 \n",
            " dropout (Dropout)           (None, 8192)              0         \n",
            "                                                                 \n",
            " dense_1 (Dense)             (None, 4096)              33558528  \n",
            "                                                                 \n",
            " dropout_1 (Dropout)         (None, 4096)              0         \n",
            "                                                                 \n",
            " dense_2 (Dense)             (None, 2048)              8390656   \n",
            "                                                                 \n",
            " dropout_2 (Dropout)         (None, 2048)              0         \n",
            "                                                                 \n",
            " dense_3 (Dense)             (None, 1024)              2098176   \n",
            "                                                                 \n",
            " dropout_3 (Dropout)         (None, 1024)              0         \n",
            "                                                                 \n",
            " dense_4 (Dense)             (None, 512)               524800    \n",
            "                                                                 \n",
            " dropout_4 (Dropout)         (None, 512)               0         \n",
            "                                                                 \n",
            " dense_5 (Dense)             (None, 1)                 513       \n",
            "                                                                 \n",
            "=================================================================\n",
            "Total params: 44,924,929\n",
            "Trainable params: 44,924,929\n",
            "Non-trainable params: 0\n",
            "_________________________________________________________________\n"
          ]
        }
      ],
      "source": [
        "model.summary()"
      ]
    },
    {
      "cell_type": "code",
      "execution_count": null,
      "metadata": {
        "colab": {
          "base_uri": "https://localhost:8080/"
        },
        "id": "WywV8WQPCued",
        "outputId": "782a0841-b257-42b4-a9ef-dce974bed416"
      },
      "outputs": [
        {
          "output_type": "stream",
          "name": "stdout",
          "text": [
            "Epoch 1/100\n",
            "7/7 [==============================] - 8s 224ms/step - loss: 0.6839 - acc: 0.4921 - val_loss: 0.9245 - val_acc: 0.5643 - lr: 0.0010\n",
            "Epoch 2/100\n",
            "7/7 [==============================] - 1s 108ms/step - loss: 0.4177 - acc: 0.4854 - val_loss: 0.8397 - val_acc: 0.4357 - lr: 0.0010\n",
            "Epoch 3/100\n",
            "7/7 [==============================] - 1s 105ms/step - loss: 0.3684 - acc: 0.5038 - val_loss: 0.6949 - val_acc: 0.5643 - lr: 0.0010\n",
            "Epoch 4/100\n",
            "7/7 [==============================] - 0s 65ms/step - loss: 0.3637 - acc: 0.4845 - val_loss: 0.7421 - val_acc: 0.4357 - lr: 0.0010\n",
            "Epoch 5/100\n",
            "7/7 [==============================] - 1s 101ms/step - loss: 0.3549 - acc: 0.4971 - val_loss: 0.6855 - val_acc: 0.5643 - lr: 0.0010\n",
            "Epoch 6/100\n",
            "7/7 [==============================] - 0s 69ms/step - loss: 0.3531 - acc: 0.5082 - val_loss: 0.7088 - val_acc: 0.4357 - lr: 0.0010\n",
            "Epoch 7/100\n",
            "7/7 [==============================] - 0s 63ms/step - loss: 0.3542 - acc: 0.4819 - val_loss: 0.6898 - val_acc: 0.5643 - lr: 0.0010\n",
            "Epoch 8/100\n",
            "7/7 [==============================] - 0s 72ms/step - loss: 0.3539 - acc: 0.5146 - val_loss: 0.7036 - val_acc: 0.4357 - lr: 0.0010\n",
            "Epoch 9/100\n",
            "7/7 [==============================] - 0s 73ms/step - loss: 0.3502 - acc: 0.5000 - val_loss: 0.6886 - val_acc: 0.5643 - lr: 0.0010\n",
            "Epoch 10/100\n",
            "7/7 [==============================] - 0s 67ms/step - loss: 0.3544 - acc: 0.4994 - val_loss: 0.7023 - val_acc: 0.4357 - lr: 0.0010\n",
            "Epoch 11/100\n",
            "7/7 [==============================] - 1s 78ms/step - loss: 0.3526 - acc: 0.4985 - val_loss: 0.6946 - val_acc: 0.4357 - lr: 0.0010\n",
            "Epoch 12/100\n",
            "7/7 [==============================] - 0s 67ms/step - loss: 0.3511 - acc: 0.5058 - val_loss: 0.6945 - val_acc: 0.4357 - lr: 0.0010\n",
            "Epoch 13/100\n",
            "7/7 [==============================] - 0s 58ms/step - loss: 0.3519 - acc: 0.4968 - val_loss: 0.6933 - val_acc: 0.4357 - lr: 0.0010\n",
            "Epoch 14/100\n",
            "7/7 [==============================] - 0s 57ms/step - loss: 0.3514 - acc: 0.4924 - val_loss: 0.6920 - val_acc: 0.5643 - lr: 0.0010\n",
            "Epoch 15/100\n",
            "7/7 [==============================] - 0s 56ms/step - loss: 0.3537 - acc: 0.5020 - val_loss: 0.7002 - val_acc: 0.4357 - lr: 0.0010\n",
            "Epoch 16/100\n",
            "7/7 [==============================] - 0s 60ms/step - loss: 0.3529 - acc: 0.4845 - val_loss: 0.6874 - val_acc: 0.5643 - lr: 0.0010\n",
            "Epoch 17/100\n",
            "7/7 [==============================] - 1s 81ms/step - loss: 0.3519 - acc: 0.5058 - val_loss: 0.7057 - val_acc: 0.4357 - lr: 0.0010\n",
            "Epoch 18/100\n",
            "7/7 [==============================] - 0s 75ms/step - loss: 0.3512 - acc: 0.5032 - val_loss: 0.6909 - val_acc: 0.5643 - lr: 0.0010\n",
            "Epoch 19/100\n",
            "7/7 [==============================] - 0s 71ms/step - loss: 0.3501 - acc: 0.4868 - val_loss: 0.6949 - val_acc: 0.4357 - lr: 0.0010\n",
            "Epoch 20/100\n",
            "7/7 [==============================] - 0s 68ms/step - loss: 0.3500 - acc: 0.5050 - val_loss: 0.6976 - val_acc: 0.4357 - lr: 0.0010\n",
            "Epoch 21/100\n",
            "7/7 [==============================] - 0s 67ms/step - loss: 0.3484 - acc: 0.5091 - val_loss: 0.6958 - val_acc: 0.4357 - lr: 0.0010\n",
            "Epoch 22/100\n",
            "7/7 [==============================] - 0s 74ms/step - loss: 0.3500 - acc: 0.4991 - val_loss: 0.7094 - val_acc: 0.4357 - lr: 0.0010\n",
            "Epoch 23/100\n",
            "7/7 [==============================] - 0s 61ms/step - loss: 0.3504 - acc: 0.4942 - val_loss: 0.7052 - val_acc: 0.4357 - lr: 0.0010\n",
            "Epoch 24/100\n",
            "7/7 [==============================] - 0s 66ms/step - loss: 0.3500 - acc: 0.4836 - val_loss: 0.6863 - val_acc: 0.5643 - lr: 0.0010\n",
            "Epoch 25/100\n",
            "7/7 [==============================] - 0s 64ms/step - loss: 0.3496 - acc: 0.4906 - val_loss: 0.6980 - val_acc: 0.4357 - lr: 0.0010\n",
            "Epoch 26/100\n",
            "7/7 [==============================] - 0s 71ms/step - loss: 0.3497 - acc: 0.5050 - val_loss: 0.7018 - val_acc: 0.4357 - lr: 0.0010\n",
            "Epoch 27/100\n",
            "7/7 [==============================] - 1s 148ms/step - loss: 0.3481 - acc: 0.4906 - val_loss: 0.6855 - val_acc: 0.5643 - lr: 0.0010\n",
            "Epoch 28/100\n",
            "7/7 [==============================] - 0s 60ms/step - loss: 0.3482 - acc: 0.5126 - val_loss: 0.7128 - val_acc: 0.4357 - lr: 0.0010\n",
            "Epoch 29/100\n",
            "7/7 [==============================] - 0s 60ms/step - loss: 0.3492 - acc: 0.4927 - val_loss: 0.6920 - val_acc: 0.5643 - lr: 0.0010\n",
            "Epoch 30/100\n",
            "7/7 [==============================] - 0s 62ms/step - loss: 0.3495 - acc: 0.4781 - val_loss: 0.6908 - val_acc: 0.5643 - lr: 0.0010\n",
            "Epoch 31/100\n",
            "7/7 [==============================] - 0s 57ms/step - loss: 0.3473 - acc: 0.4968 - val_loss: 0.7094 - val_acc: 0.4357 - lr: 0.0010\n",
            "Epoch 32/100\n",
            "7/7 [==============================] - 0s 50ms/step - loss: 0.3475 - acc: 0.5064 - val_loss: 0.6977 - val_acc: 0.4357 - lr: 0.0010\n",
            "Epoch 33/100\n",
            "7/7 [==============================] - 0s 50ms/step - loss: 0.3471 - acc: 0.4825 - val_loss: 0.6924 - val_acc: 0.5643 - lr: 0.0010\n",
            "Epoch 34/100\n",
            "7/7 [==============================] - 0s 57ms/step - loss: 0.3483 - acc: 0.4985 - val_loss: 0.7018 - val_acc: 0.4357 - lr: 0.0010\n",
            "Epoch 35/100\n",
            "7/7 [==============================] - 0s 57ms/step - loss: 0.3448 - acc: 0.5047 - val_loss: 0.6863 - val_acc: 0.5643 - lr: 0.0010\n",
            "Epoch 36/100\n",
            "7/7 [==============================] - 0s 50ms/step - loss: 0.3475 - acc: 0.5015 - val_loss: 0.6986 - val_acc: 0.4357 - lr: 0.0010\n",
            "Epoch 37/100\n",
            "7/7 [==============================] - 0s 57ms/step - loss: 0.3471 - acc: 0.4962 - val_loss: 0.6887 - val_acc: 0.5643 - lr: 0.0010\n",
            "Epoch 38/100\n",
            "7/7 [==============================] - 0s 49ms/step - loss: 0.3475 - acc: 0.4807 - val_loss: 0.6958 - val_acc: 0.4357 - lr: 0.0010\n",
            "Epoch 39/100\n",
            "7/7 [==============================] - 0s 51ms/step - loss: 0.3490 - acc: 0.5175 - val_loss: 0.7235 - val_acc: 0.4357 - lr: 0.0010\n",
            "Epoch 40/100\n",
            "7/7 [==============================] - 1s 81ms/step - loss: 0.3498 - acc: 0.4763 - val_loss: 0.6854 - val_acc: 0.5643 - lr: 0.0010\n",
            "Epoch 41/100\n",
            "7/7 [==============================] - 0s 50ms/step - loss: 0.3459 - acc: 0.5035 - val_loss: 0.7067 - val_acc: 0.4357 - lr: 0.0010\n",
            "Epoch 42/100\n",
            "7/7 [==============================] - 0s 52ms/step - loss: 0.3474 - acc: 0.5073 - val_loss: 0.6969 - val_acc: 0.4357 - lr: 0.0010\n",
            "Epoch 43/100\n",
            "7/7 [==============================] - 0s 52ms/step - loss: 0.3478 - acc: 0.4795 - val_loss: 0.6861 - val_acc: 0.5643 - lr: 0.0010\n",
            "Epoch 44/100\n",
            "7/7 [==============================] - 0s 50ms/step - loss: 0.3472 - acc: 0.5152 - val_loss: 0.7105 - val_acc: 0.4357 - lr: 0.0010\n",
            "Epoch 45/100\n",
            "7/7 [==============================] - 0s 58ms/step - loss: 0.3471 - acc: 0.4895 - val_loss: 0.6870 - val_acc: 0.5643 - lr: 0.0010\n",
            "Epoch 46/100\n",
            "7/7 [==============================] - 0s 53ms/step - loss: 0.3470 - acc: 0.4717 - val_loss: 0.6977 - val_acc: 0.4357 - lr: 0.0010\n",
            "Epoch 47/100\n",
            "7/7 [==============================] - 0s 53ms/step - loss: 0.3453 - acc: 0.4927 - val_loss: 0.6954 - val_acc: 0.4357 - lr: 0.0010\n",
            "Epoch 48/100\n",
            "7/7 [==============================] - 0s 53ms/step - loss: 0.3471 - acc: 0.4708 - val_loss: 0.6897 - val_acc: 0.5643 - lr: 0.0010\n",
            "Epoch 49/100\n",
            "7/7 [==============================] - 0s 53ms/step - loss: 0.3444 - acc: 0.5085 - val_loss: 0.6992 - val_acc: 0.4357 - lr: 0.0010\n",
            "Epoch 50/100\n",
            "7/7 [==============================] - 0s 61ms/step - loss: 0.3446 - acc: 0.4874 - val_loss: 0.6900 - val_acc: 0.5643 - lr: 0.0010\n",
            "Epoch 51/100\n",
            "7/7 [==============================] - 0s 59ms/step - loss: 0.3464 - acc: 0.4930 - val_loss: 0.6998 - val_acc: 0.4357 - lr: 0.0010\n",
            "Epoch 52/100\n",
            "7/7 [==============================] - 0s 57ms/step - loss: 0.3465 - acc: 0.4679 - val_loss: 0.6869 - val_acc: 0.5643 - lr: 0.0010\n",
            "Epoch 53/100\n",
            "7/7 [==============================] - 0s 50ms/step - loss: 0.3460 - acc: 0.5096 - val_loss: 0.7021 - val_acc: 0.4357 - lr: 0.0010\n",
            "Epoch 54/100\n",
            "7/7 [==============================] - 0s 57ms/step - loss: 0.3443 - acc: 0.5091 - val_loss: 0.6920 - val_acc: 0.5643 - lr: 0.0010\n",
            "Epoch 55/100\n",
            "7/7 [==============================] - 0s 57ms/step - loss: 0.3449 - acc: 0.4819 - val_loss: 0.6911 - val_acc: 0.5643 - lr: 0.0010\n",
            "Epoch 56/100\n",
            "7/7 [==============================] - 0s 50ms/step - loss: 0.3449 - acc: 0.5099 - val_loss: 0.6988 - val_acc: 0.4357 - lr: 0.0010\n",
            "Epoch 57/100\n",
            "7/7 [==============================] - 0s 51ms/step - loss: 0.3441 - acc: 0.4851 - val_loss: 0.6906 - val_acc: 0.5643 - lr: 0.0010\n",
            "Epoch 58/100\n",
            "7/7 [==============================] - 0s 51ms/step - loss: 0.3451 - acc: 0.5126 - val_loss: 0.6982 - val_acc: 0.4357 - lr: 0.0010\n",
            "Epoch 59/100\n",
            "7/7 [==============================] - 0s 50ms/step - loss: 0.3446 - acc: 0.4886 - val_loss: 0.6887 - val_acc: 0.5643 - lr: 0.0010\n",
            "Epoch 60/100\n",
            "7/7 [==============================] - 0s 50ms/step - loss: 0.3455 - acc: 0.5193 - val_loss: 0.7011 - val_acc: 0.4357 - lr: 0.0010\n",
            "Epoch 61/100\n",
            "7/7 [==============================] - 0s 57ms/step - loss: 0.3436 - acc: 0.4819 - val_loss: 0.6877 - val_acc: 0.5643 - lr: 0.0010\n",
            "Epoch 62/100\n",
            "7/7 [==============================] - 0s 50ms/step - loss: 0.3459 - acc: 0.5105 - val_loss: 0.7046 - val_acc: 0.4357 - lr: 0.0010\n",
            "Epoch 63/100\n",
            "7/7 [==============================] - 0s 51ms/step - loss: 0.3451 - acc: 0.4755 - val_loss: 0.6883 - val_acc: 0.5643 - lr: 0.0010\n",
            "Epoch 64/100\n",
            "7/7 [==============================] - 0s 54ms/step - loss: 0.3446 - acc: 0.5187 - val_loss: 0.7038 - val_acc: 0.4357 - lr: 0.0010\n",
            "Epoch 65/100\n",
            "7/7 [==============================] - 0s 51ms/step - loss: 0.3451 - acc: 0.4684 - val_loss: 0.6919 - val_acc: 0.5643 - lr: 0.0010\n",
            "Epoch 66/100\n",
            "7/7 [==============================] - 0s 51ms/step - loss: 0.3448 - acc: 0.5313 - val_loss: 0.6973 - val_acc: 0.4357 - lr: 0.0010\n",
            "Epoch 67/100\n",
            "7/7 [==============================] - 0s 58ms/step - loss: 0.3448 - acc: 0.4681 - val_loss: 0.6910 - val_acc: 0.5643 - lr: 0.0010\n",
            "Epoch 68/100\n",
            "7/7 [==============================] - 0s 51ms/step - loss: 0.3450 - acc: 0.4944 - val_loss: 0.6936 - val_acc: 0.4357 - lr: 0.0010\n",
            "Epoch 69/100\n",
            "7/7 [==============================] - 0s 50ms/step - loss: 0.3446 - acc: 0.4962 - val_loss: 0.6920 - val_acc: 0.5643 - lr: 0.0010\n",
            "Epoch 70/100\n",
            "7/7 [==============================] - 0s 53ms/step - loss: 0.3437 - acc: 0.5091 - val_loss: 0.6971 - val_acc: 0.4357 - lr: 0.0010\n",
            "Epoch 71/100\n",
            "7/7 [==============================] - 0s 52ms/step - loss: 0.3440 - acc: 0.5082 - val_loss: 0.6960 - val_acc: 0.4357 - lr: 0.0010\n",
            "Epoch 72/100\n",
            "7/7 [==============================] - 0s 52ms/step - loss: 0.3447 - acc: 0.4661 - val_loss: 0.6943 - val_acc: 0.4357 - lr: 0.0010\n",
            "Epoch 73/100\n",
            "7/7 [==============================] - 0s 51ms/step - loss: 0.3444 - acc: 0.4889 - val_loss: 0.6937 - val_acc: 0.4357 - lr: 0.0010\n",
            "Epoch 74/100\n",
            "7/7 [==============================] - 0s 52ms/step - loss: 0.3443 - acc: 0.4801 - val_loss: 0.7004 - val_acc: 0.4357 - lr: 0.0010\n",
            "Epoch 75/100\n",
            "7/7 [==============================] - 0s 58ms/step - loss: 0.3433 - acc: 0.4921 - val_loss: 0.6916 - val_acc: 0.5643 - lr: 0.0010\n",
            "Epoch 76/100\n",
            "7/7 [==============================] - 0s 58ms/step - loss: 0.3442 - acc: 0.4819 - val_loss: 0.6938 - val_acc: 0.4357 - lr: 0.0010\n",
            "Epoch 77/100\n",
            "7/7 [==============================] - 0s 52ms/step - loss: 0.3444 - acc: 0.5193 - val_loss: 0.6943 - val_acc: 0.4357 - lr: 0.0010\n",
            "Epoch 78/100\n",
            "7/7 [==============================] - 0s 51ms/step - loss: 0.3446 - acc: 0.4623 - val_loss: 0.6954 - val_acc: 0.4357 - lr: 0.0010\n",
            "Epoch 79/100\n",
            "7/7 [==============================] - 0s 57ms/step - loss: 0.3437 - acc: 0.5237 - val_loss: 0.6928 - val_acc: 0.5643 - lr: 0.0010\n",
            "Epoch 80/100\n",
            "7/7 [==============================] - 0s 55ms/step - loss: 0.3438 - acc: 0.4868 - val_loss: 0.6968 - val_acc: 0.4357 - lr: 0.0010\n",
            "Epoch 81/100\n",
            "7/7 [==============================] - 0s 52ms/step - loss: 0.3440 - acc: 0.5050 - val_loss: 0.6912 - val_acc: 0.5643 - lr: 0.0010\n",
            "Epoch 82/100\n",
            "7/7 [==============================] - 0s 60ms/step - loss: 0.3449 - acc: 0.4790 - val_loss: 0.6977 - val_acc: 0.4357 - lr: 0.0010\n",
            "Epoch 83/100\n",
            "7/7 [==============================] - 0s 54ms/step - loss: 0.3441 - acc: 0.5190 - val_loss: 0.6908 - val_acc: 0.5643 - lr: 0.0010\n",
            "Epoch 84/100\n",
            "7/7 [==============================] - 0s 60ms/step - loss: 0.3446 - acc: 0.4752 - val_loss: 0.7007 - val_acc: 0.4357 - lr: 0.0010\n",
            "Epoch 85/100\n",
            "7/7 [==============================] - 0s 53ms/step - loss: 0.3446 - acc: 0.4904 - val_loss: 0.6912 - val_acc: 0.5643 - lr: 0.0010\n",
            "Epoch 86/100\n",
            "7/7 [==============================] - 0s 52ms/step - loss: 0.3444 - acc: 0.4784 - val_loss: 0.6999 - val_acc: 0.4357 - lr: 0.0010\n",
            "Epoch 87/100\n",
            "7/7 [==============================] - 0s 59ms/step - loss: 0.3440 - acc: 0.4810 - val_loss: 0.6901 - val_acc: 0.5643 - lr: 0.0010\n",
            "Epoch 88/100\n",
            "7/7 [==============================] - 0s 51ms/step - loss: 0.3444 - acc: 0.5298 - val_loss: 0.6956 - val_acc: 0.4357 - lr: 0.0010\n",
            "Epoch 89/100\n",
            "7/7 [==============================] - 0s 51ms/step - loss: 0.3435 - acc: 0.4790 - val_loss: 0.6955 - val_acc: 0.4357 - lr: 0.0010\n",
            "Epoch 90/100\n",
            "7/7 [==============================] - 0s 53ms/step - loss: 0.3438 - acc: 0.4860 - val_loss: 0.6927 - val_acc: 0.5643 - lr: 0.0010\n",
            "Epoch 91/100\n",
            "7/7 [==============================] - 0s 60ms/step - loss: 0.3440 - acc: 0.5058 - val_loss: 0.6942 - val_acc: 0.4357 - lr: 0.0010\n",
            "Epoch 92/100\n",
            "7/7 [==============================] - 0s 51ms/step - loss: 0.3442 - acc: 0.4807 - val_loss: 0.6946 - val_acc: 0.4357 - lr: 0.0010\n",
            "Epoch 93/100\n",
            "7/7 [==============================] - 0s 51ms/step - loss: 0.3446 - acc: 0.4629 - val_loss: 0.6935 - val_acc: 0.4357 - lr: 0.0010\n",
            "Epoch 94/100\n",
            "7/7 [==============================] - 0s 54ms/step - loss: 0.3438 - acc: 0.5178 - val_loss: 0.6928 - val_acc: 0.5643 - lr: 0.0010\n",
            "Epoch 95/100\n",
            "7/7 [==============================] - 0s 52ms/step - loss: 0.3440 - acc: 0.4866 - val_loss: 0.6962 - val_acc: 0.4357 - lr: 0.0010\n",
            "Epoch 96/100\n",
            "7/7 [==============================] - 0s 51ms/step - loss: 0.3439 - acc: 0.4956 - val_loss: 0.6936 - val_acc: 0.4357 - lr: 0.0010\n",
            "Epoch 97/100\n",
            "7/7 [==============================] - 0s 53ms/step - loss: 0.3435 - acc: 0.4743 - val_loss: 0.6937 - val_acc: 0.4357 - lr: 0.0010\n",
            "Epoch 98/100\n",
            "7/7 [==============================] - 0s 52ms/step - loss: 0.3438 - acc: 0.5263 - val_loss: 0.6911 - val_acc: 0.5643 - lr: 0.0010\n",
            "Epoch 99/100\n",
            "7/7 [==============================] - 0s 59ms/step - loss: 0.3439 - acc: 0.5018 - val_loss: 0.6981 - val_acc: 0.4357 - lr: 0.0010\n",
            "Epoch 100/100\n",
            "7/7 [==============================] - 0s 52ms/step - loss: 0.3436 - acc: 0.4749 - val_loss: 0.6932 - val_acc: 0.4357 - lr: 0.0010\n"
          ]
        }
      ],
      "source": [
        "training = model.fit(X_train, y_train, epochs=epochs, batch_size=batch_size, validation_split=validation_split, class_weight=class_weight, callbacks=callbacks)"
      ]
    },
    {
      "cell_type": "code",
      "execution_count": null,
      "metadata": {
        "colab": {
          "base_uri": "https://localhost:8080/",
          "height": 659
        },
        "id": "7Iy4lqBSFHvS",
        "outputId": "026d090d-0caa-4b74-9c4e-9b9a604f21bc"
      },
      "outputs": [
        {
          "output_type": "stream",
          "name": "stdout",
          "text": [
            "val_loss 0.6932129859924316\n"
          ]
        },
        {
          "output_type": "display_data",
          "data": {
            "text/plain": [
              "<Figure size 1000x700 with 1 Axes>"
            ],
            "image/png": "[encoded data removed]"
          },
          "metadata": {}
        }
      ],
      "source": [
        "# summarize history for loss\n",
        "plt.figure(figsize=(10,7))\n",
        "plt.plot(training.history['loss'])\n",
        "plt.plot(training.history['val_loss'])\n",
        "plt.title('Model Loss')\n",
        "plt.xlabel('Epochs')\n",
        "plt.ylabel('Loss')\n",
        "plt.legend(['train', 'validation'], loc='best')\n",
        "plt.ylim((0,1))\n",
        "print('train_loss', training.history['loss'][-1])\n",
        "print('val_loss', training.history['val_loss'][-1])"
      ]
    },
    {
      "cell_type": "code",
      "execution_count": null,
      "metadata": {
        "colab": {
          "base_uri": "https://localhost:8080/",
          "height": 659
        },
        "id": "9i2ThaGcGQ4I",
        "outputId": "e6e40aab-077f-470f-cc63-7a8cc2f361a4"
      },
      "outputs": [
        {
          "output_type": "stream",
          "name": "stdout",
          "text": [
            "val_acc 0.4357476532459259\n"
          ]
        },
        {
          "output_type": "display_data",
          "data": {
            "text/plain": [
              "<Figure size 1000x700 with 1 Axes>"
            ],
            "image/png": "[encoded data removed]"
          },
          "metadata": {}
        }
      ],
      "source": [
        "# summarize history for accuracy\n",
        "plt.figure(figsize=(10,7))\n",
        "plt.plot(training.history['acc'])\n",
        "plt.plot(training.history['val_acc'])\n",
        "plt.title('Model Accuracy')\n",
        "plt.xlabel('Epochs')\n",
        "plt.ylabel('Accuracy')\n",
        "plt.legend(['train', 'validation'], loc='best')\n",
        "print('train_acc', training.history['acc'][-1])\n",
        "print('val_acc', training.history['val_acc'][-1])"
      ]
    },
    {
      "cell_type": "code",
      "execution_count": null,
      "metadata": {
        "colab": {
          "base_uri": "https://localhost:8080/"
        },
        "id": "JliE8z0WhrJT",
        "outputId": "89452d2b-f9ff-48c0-b44b-98b6f67433bb"
      },
      "outputs": [
        {
          "output_type": "stream",
          "name": "stdout",
          "text": [
            "1/1 [==============================] - 0s 110ms/step\n",
            "1/1 [==============================] - 0s 16ms/step\n",
            "1/1 [==============================] - 0s 24ms/step\n",
            "1/1 [==============================] - 0s 22ms/step\n",
            "1/1 [==============================] - 0s 20ms/step\n",
            "1/1 [==============================] - 0s 20ms/step\n",
            "1/1 [==============================] - 0s 17ms/step\n",
            "1/1 [==============================] - 0s 18ms/step\n",
            "1/1 [==============================] - 0s 21ms/step\n",
            "1/1 [==============================] - 0s 19ms/step\n",
            "1/1 [==============================] - 0s 17ms/step\n",
            "1/1 [==============================] - 0s 18ms/step\n",
            "1/1 [==============================] - 0s 19ms/step\n",
            "1/1 [==============================] - 0s 19ms/step\n",
            "1/1 [==============================] - 0s 20ms/step\n",
            "1/1 [==============================] - 0s 18ms/step\n",
            "1/1 [==============================] - 0s 19ms/step\n",
            "1/1 [==============================] - 0s 37ms/step\n",
            "1/1 [==============================] - 0s 28ms/step\n",
            "1/1 [==============================] - 0s 32ms/step\n",
            "1/1 [==============================] - 0s 25ms/step\n",
            "1/1 [==============================] - 0s 29ms/step\n",
            "1/1 [==============================] - 0s 26ms/step\n",
            "1/1 [==============================] - 0s 27ms/step\n",
            "1/1 [==============================] - 0s 25ms/step\n",
            "1/1 [==============================] - 0s 24ms/step\n",
            "1/1 [==============================] - 0s 111ms/step\n",
            "1/1 [==============================] - 0s 157ms/step\n",
            "1/1 [==============================] - 0s 132ms/step\n",
            "1/1 [==============================] - 0s 50ms/step\n",
            "1/1 [==============================] - 0s 33ms/step\n",
            "1/1 [==============================] - 0s 24ms/step\n",
            "1/1 [==============================] - 0s 28ms/step\n",
            "1/1 [==============================] - 0s 28ms/step\n",
            "1/1 [==============================] - 0s 17ms/step\n",
            "1/1 [==============================] - 0s 19ms/step\n",
            "1/1 [==============================] - 0s 80ms/step\n",
            "1/1 [==============================] - 0s 87ms/step\n",
            "1/1 [==============================] - 0s 66ms/step\n",
            "1/1 [==============================] - 0s 19ms/step\n",
            "1/1 [==============================] - 0s 22ms/step\n",
            "1/1 [==============================] - 0s 18ms/step\n",
            "1/1 [==============================] - 0s 19ms/step\n",
            "1/1 [==============================] - 0s 18ms/step\n",
            "1/1 [==============================] - 0s 22ms/step\n",
            "1/1 [==============================] - 0s 19ms/step\n",
            "1/1 [==============================] - 0s 19ms/step\n",
            "1/1 [==============================] - 0s 21ms/step\n",
            "1/1 [==============================] - 0s 17ms/step\n",
            "1/1 [==============================] - 0s 19ms/step\n",
            "1/1 [==============================] - 0s 17ms/step\n",
            "1/1 [==============================] - 0s 17ms/step\n",
            "1/1 [==============================] - 0s 17ms/step\n",
            "1/1 [==============================] - 0s 17ms/step\n",
            "1/1 [==============================] - 0s 19ms/step\n",
            "1/1 [==============================] - 0s 17ms/step\n",
            "1/1 [==============================] - 0s 17ms/step\n",
            "1/1 [==============================] - 0s 18ms/step\n",
            "1/1 [==============================] - 0s 18ms/step\n",
            "1/1 [==============================] - 0s 22ms/step\n",
            "1/1 [==============================] - 0s 17ms/step\n",
            "1/1 [==============================] - 0s 19ms/step\n",
            "1/1 [==============================] - 0s 18ms/step\n",
            "1/1 [==============================] - 0s 17ms/step\n",
            "1/1 [==============================] - 0s 19ms/step\n",
            "1/1 [==============================] - 0s 18ms/step\n",
            "1/1 [==============================] - 0s 18ms/step\n",
            "1/1 [==============================] - 0s 17ms/step\n",
            "1/1 [==============================] - 0s 16ms/step\n",
            "1/1 [==============================] - 0s 19ms/step\n",
            "1/1 [==============================] - 0s 16ms/step\n",
            "1/1 [==============================] - 0s 17ms/step\n",
            "1/1 [==============================] - 0s 16ms/step\n",
            "1/1 [==============================] - 0s 16ms/step\n",
            "1/1 [==============================] - 0s 19ms/step\n",
            "1/1 [==============================] - 0s 19ms/step\n",
            "1/1 [==============================] - 0s 18ms/step\n",
            "1/1 [==============================] - 0s 19ms/step\n",
            "1/1 [==============================] - 0s 18ms/step\n",
            "1/1 [==============================] - 0s 17ms/step\n",
            "1/1 [==============================] - 0s 17ms/step\n",
            "1/1 [==============================] - 0s 19ms/step\n",
            "1/1 [==============================] - 0s 17ms/step\n",
            "1/1 [==============================] - 0s 19ms/step\n",
            "1/1 [==============================] - 0s 16ms/step\n",
            "1/1 [==============================] - 0s 22ms/step\n",
            "1/1 [==============================] - 0s 17ms/step\n",
            "1/1 [==============================] - 0s 18ms/step\n",
            "1/1 [==============================] - 0s 17ms/step\n",
            "1/1 [==============================] - 0s 18ms/step\n",
            "1/1 [==============================] - 0s 19ms/step\n",
            "1/1 [==============================] - 0s 16ms/step\n",
            "1/1 [==============================] - 0s 18ms/step\n",
            "1/1 [==============================] - 0s 17ms/step\n",
            "1/1 [==============================] - 0s 16ms/step\n",
            "1/1 [==============================] - 0s 16ms/step\n",
            "1/1 [==============================] - 0s 16ms/step\n",
            "1/1 [==============================] - 0s 24ms/step\n",
            "1/1 [==============================] - 0s 18ms/step\n",
            "1/1 [==============================] - 0s 19ms/step\n",
            "1/1 [==============================] - 0s 16ms/step\n",
            "1/1 [==============================] - 0s 18ms/step\n",
            "1/1 [==============================] - 0s 20ms/step\n",
            "1/1 [==============================] - 0s 17ms/step\n",
            "1/1 [==============================] - 0s 17ms/step\n",
            "1/1 [==============================] - 0s 16ms/step\n",
            "1/1 [==============================] - 0s 18ms/step\n",
            "1/1 [==============================] - 0s 17ms/step\n",
            "1/1 [==============================] - 0s 16ms/step\n",
            "1/1 [==============================] - 0s 19ms/step\n",
            "1/1 [==============================] - 0s 22ms/step\n",
            "1/1 [==============================] - 0s 17ms/step\n",
            "1/1 [==============================] - 0s 17ms/step\n",
            "1/1 [==============================] - 0s 19ms/step\n",
            "1/1 [==============================] - 0s 16ms/step\n",
            "1/1 [==============================] - 0s 25ms/step\n",
            "1/1 [==============================] - 0s 19ms/step\n",
            "1/1 [==============================] - 0s 18ms/step\n",
            "1/1 [==============================] - 0s 29ms/step\n",
            "1/1 [==============================] - 0s 17ms/step\n",
            "1/1 [==============================] - 0s 20ms/step\n",
            "1/1 [==============================] - 0s 19ms/step\n",
            "1/1 [==============================] - 0s 19ms/step\n",
            "1/1 [==============================] - 0s 19ms/step\n",
            "1/1 [==============================] - 0s 17ms/step\n",
            "1/1 [==============================] - 0s 19ms/step\n",
            "1/1 [==============================] - 0s 19ms/step\n",
            "1/1 [==============================] - 0s 20ms/step\n",
            "1/1 [==============================] - 0s 17ms/step\n",
            "1/1 [==============================] - 0s 18ms/step\n",
            "1/1 [==============================] - 0s 19ms/step\n",
            "1/1 [==============================] - 0s 18ms/step\n",
            "1/1 [==============================] - 0s 17ms/step\n",
            "1/1 [==============================] - 0s 18ms/step\n",
            "1/1 [==============================] - 0s 16ms/step\n",
            "1/1 [==============================] - 0s 24ms/step\n",
            "1/1 [==============================] - 0s 17ms/step\n",
            "1/1 [==============================] - 0s 21ms/step\n",
            "1/1 [==============================] - 0s 17ms/step\n",
            "1/1 [==============================] - 0s 23ms/step\n",
            "1/1 [==============================] - 0s 18ms/step\n",
            "1/1 [==============================] - 0s 18ms/step\n",
            "1/1 [==============================] - 0s 24ms/step\n",
            "1/1 [==============================] - 0s 17ms/step\n",
            "1/1 [==============================] - 0s 20ms/step\n",
            "1/1 [==============================] - 0s 19ms/step\n",
            "1/1 [==============================] - 0s 19ms/step\n",
            "1/1 [==============================] - 0s 18ms/step\n",
            "1/1 [==============================] - 0s 20ms/step\n",
            "1/1 [==============================] - 0s 20ms/step\n",
            "1/1 [==============================] - 0s 19ms/step\n",
            "1/1 [==============================] - 0s 18ms/step\n",
            "1/1 [==============================] - 0s 18ms/step\n",
            "1/1 [==============================] - 0s 26ms/step\n",
            "1/1 [==============================] - 0s 18ms/step\n",
            "1/1 [==============================] - 0s 18ms/step\n",
            "1/1 [==============================] - 0s 20ms/step\n",
            "1/1 [==============================] - 0s 17ms/step\n",
            "1/1 [==============================] - 0s 20ms/step\n",
            "1/1 [==============================] - 0s 18ms/step\n",
            "1/1 [==============================] - 0s 19ms/step\n",
            "1/1 [==============================] - 0s 19ms/step\n",
            "1/1 [==============================] - 0s 18ms/step\n",
            "1/1 [==============================] - 0s 22ms/step\n",
            "1/1 [==============================] - 0s 17ms/step\n",
            "1/1 [==============================] - 0s 18ms/step\n",
            "1/1 [==============================] - 0s 21ms/step\n",
            "1/1 [==============================] - 0s 18ms/step\n",
            "1/1 [==============================] - 0s 17ms/step\n",
            "1/1 [==============================] - 0s 20ms/step\n",
            "1/1 [==============================] - 0s 16ms/step\n",
            "1/1 [==============================] - 0s 17ms/step\n",
            "1/1 [==============================] - 0s 22ms/step\n",
            "1/1 [==============================] - 0s 20ms/step\n",
            "1/1 [==============================] - 0s 16ms/step\n",
            "1/1 [==============================] - 0s 18ms/step\n",
            "1/1 [==============================] - 0s 19ms/step\n",
            "1/1 [==============================] - 0s 20ms/step\n",
            "1/1 [==============================] - 0s 18ms/step\n",
            "1/1 [==============================] - 0s 16ms/step\n",
            "1/1 [==============================] - 0s 18ms/step\n",
            "1/1 [==============================] - 0s 17ms/step\n",
            "1/1 [==============================] - 0s 17ms/step\n",
            "1/1 [==============================] - 0s 19ms/step\n",
            "1/1 [==============================] - 0s 16ms/step\n",
            "1/1 [==============================] - 0s 16ms/step\n",
            "1/1 [==============================] - 0s 20ms/step\n",
            "1/1 [==============================] - 0s 19ms/step\n",
            "1/1 [==============================] - 0s 19ms/step\n",
            "1/1 [==============================] - 0s 19ms/step\n",
            "1/1 [==============================] - 0s 19ms/step\n",
            "1/1 [==============================] - 0s 22ms/step\n",
            "1/1 [==============================] - 0s 18ms/step\n",
            "1/1 [==============================] - 0s 19ms/step\n",
            "1/1 [==============================] - 0s 17ms/step\n",
            "1/1 [==============================] - 0s 17ms/step\n",
            "1/1 [==============================] - 0s 17ms/step\n",
            "1/1 [==============================] - 0s 18ms/step\n",
            "1/1 [==============================] - 0s 19ms/step\n",
            "1/1 [==============================] - 0s 17ms/step\n",
            "1/1 [==============================] - 0s 17ms/step\n",
            "1/1 [==============================] - 0s 19ms/step\n",
            "1/1 [==============================] - 0s 18ms/step\n",
            "1/1 [==============================] - 0s 17ms/step\n",
            "1/1 [==============================] - 0s 16ms/step\n",
            "1/1 [==============================] - 0s 18ms/step\n",
            "1/1 [==============================] - 0s 19ms/step\n",
            "1/1 [==============================] - 0s 20ms/step\n",
            "1/1 [==============================] - 0s 21ms/step\n",
            "1/1 [==============================] - 0s 21ms/step\n",
            "1/1 [==============================] - 0s 28ms/step\n",
            "1/1 [==============================] - 0s 27ms/step\n",
            "1/1 [==============================] - 0s 25ms/step\n",
            "1/1 [==============================] - 0s 28ms/step\n",
            "1/1 [==============================] - 0s 28ms/step\n",
            "1/1 [==============================] - 0s 25ms/step\n",
            "1/1 [==============================] - 0s 26ms/step\n",
            "1/1 [==============================] - 0s 25ms/step\n",
            "1/1 [==============================] - 0s 24ms/step\n",
            "1/1 [==============================] - 0s 24ms/step\n",
            "1/1 [==============================] - 0s 25ms/step\n",
            "1/1 [==============================] - 0s 38ms/step\n",
            "1/1 [==============================] - 0s 31ms/step\n",
            "1/1 [==============================] - 0s 26ms/step\n",
            "1/1 [==============================] - 0s 27ms/step\n",
            "1/1 [==============================] - 0s 25ms/step\n",
            "1/1 [==============================] - 0s 26ms/step\n",
            "1/1 [==============================] - 0s 25ms/step\n",
            "1/1 [==============================] - 0s 24ms/step\n",
            "1/1 [==============================] - 0s 28ms/step\n"
          ]
        }
      ],
      "source": [
        "# prediction on test set\n",
        "pred_test=np.ones(len(X_test))\n",
        "for i in range(X_test.shape[0]):    \n",
        "    pred_test[i]=np.where(model.predict(np.expand_dims(X_test[i],axis=0))[0][0]>0.5,1,0)\n",
        "pred_test=np.reshape(pred_test,(1,-1)).tolist()[0]"
      ]
    },
    {
      "cell_type": "code",
      "execution_count": null,
      "metadata": {
        "colab": {
          "base_uri": "https://localhost:8080/"
        },
        "id": "1OGhaL9pIo5F",
        "outputId": "8332f8fc-22ab-452b-ba7b-802e7801cbaa"
      },
      "outputs": [
        {
          "output_type": "stream",
          "name": "stdout",
          "text": [
            "The Accuracy of the model on the test set is: 56.52173913043478 %\n",
            "Test ROC AUC: 0.5000\n"
          ]
        }
      ],
      "source": [
        "# Accuracy on test set\n",
        "acc = accuracy_score(list(y_test),list(pred_test))\n",
        "print(\"test_acc\", acc*100,'%')\n",
        "# ROC AUC score\n",
        "test_rocauc = roc_auc_score(y_test, pred_test)\n",
        "print(f\"test ROC AUC: {test_rocauc:.4f}\")"
      ]
    },
    {
      "cell_type": "markdown",
      "source": [
        "---\n",
        "**Result Analysis**\n",
        "\n",
        "---\n",
        "\n",
        "\n",
        "\n",
        "I tried various architectures for the model -\n",
        "1. 2 hidden layers with 2^7 neurons each\n",
        "2. 2 hidden layers with 2^10 neurons each\n",
        "3. 5 hidden layers with 2^10 neurons each\n",
        "4. 10 hidden layers with 2^10 neurons each\n",
        "5. 15 hidden layers with 2^10 neurons each\n",
        "6. 5 hidden layers with 2^13 neurons each\n",
        "7. 5 hidden layers with 2^14 neurons each\n",
        "8. 5 hidden layers with tapering architecture 2^14, 2^13, .. and so on neurons\n",
        "\n",
        "All of them seem to produce similar results in this case with a validation loss (binary crossentropy) reach a minimum value around 0.7 after very few epochs of the order of tens. The validation accuracy switched continuously between around 44% to 56%, with test accuracy of 56%. I tried to improve the performance by adding more features after intially starting with just the ohlcv data. But that did not result in a better performance either.\n",
        "\n"
      ],
      "metadata": {
        "id": "upKd6UgyL6_g"
      }
    },
    {
      "cell_type": "code",
      "source": [],
      "metadata": {
        "id": "xBnbFAZCOIi5"
      },
      "execution_count": null,
      "outputs": []
    }
  ],
  "metadata": {
    "accelerator": "GPU",
    "colab": {
      "provenance": []
    },
    "gpuClass": "standard",
    "kernelspec": {
      "display_name": "Python 3 (ipykernel)",
      "language": "python",
      "name": "python3"
    },
    "language_info": {
      "codemirror_mode": {
        "name": "ipython",
        "version": 3
      },
      "file_extension": ".py",
      "mimetype": "text/x-python",
      "name": "python",
      "nbconvert_exporter": "python",
      "pygments_lexer": "ipython3",
      "version": "3.10.10"
    }
  },
  "nbformat": 4,
  "nbformat_minor": 0
}